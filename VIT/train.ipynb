{
 "cells": [
  {
   "cell_type": "code",
   "execution_count": 1,
   "metadata": {},
   "outputs": [],
   "source": [
    "import torch\n",
    "from torch import nn\n",
    "from torch.utils.data import DataLoader\n",
    "from torchvision import transforms\n",
    "from transformers import CLIPModel, CLIPProcessor, AdamW\n",
    "from PIL import Image\n",
    "import pandas as pd\n",
    "import clip"
   ]
  },
  {
   "cell_type": "code",
   "execution_count": 2,
   "metadata": {},
   "outputs": [],
   "source": [
    "# # Load the CLIP model and processor\n",
    "# model = CLIPModel.from_pretrained(\"openai/clip-vit-base-patch32\")\n",
    "# processor = CLIPProcessor.from_pretrained(\"openai/clip-vit-base-patch32\")\n",
    "\n",
    "device = \"cuda:0\" if torch.cuda.is_available() else \"cpu\" \n",
    "\n",
    "# Load pre-trained CLIP model\n",
    "model, preprocess = clip.load(\"ViT-B/32\", device=device, jit=False)"
   ]
  },
  {
   "cell_type": "code",
   "execution_count": 3,
   "metadata": {},
   "outputs": [],
   "source": [
    "df = pd.read_csv('data/data.csv')"
   ]
  },
  {
   "cell_type": "code",
   "execution_count": 4,
   "metadata": {},
   "outputs": [],
   "source": [
    "img_path = df['img_path'].tolist()\n",
    "labels = df['label'].tolist()"
   ]
  },
  {
   "cell_type": "code",
   "execution_count": 5,
   "metadata": {},
   "outputs": [],
   "source": [
    "class image_label_dataset():\n",
    "    def __init__(self, list_image_path,list_txt):\n",
    "        # Initialize image paths and corresponding texts\n",
    "        self.image_path = list_image_path\n",
    "        # Tokenize text using CLIP's tokenizer\n",
    "        self.label  = clip.tokenize(list_txt)\n",
    "\n",
    "    def __len__(self):\n",
    "        return len(self.label)\n",
    "\n",
    "    def __getitem__(self, idx):\n",
    "        # Preprocess image using CLIP's preprocessing function\n",
    "        image = preprocess(Image.open(self.image_path[idx]))\n",
    "        label = self.label[idx]\n",
    "        return image, label"
   ]
  },
  {
   "cell_type": "code",
   "execution_count": 6,
   "metadata": {},
   "outputs": [],
   "source": [
    "train_dataset = image_label_dataset(img_path, labels)\n",
    "train_dataloader = DataLoader(train_dataset, batch_size=4, shuffle=True) "
   ]
  },
  {
   "cell_type": "code",
   "execution_count": 7,
   "metadata": {},
   "outputs": [
    {
     "data": {
      "text/plain": [
       "<__main__.image_label_dataset at 0x798296528ac0>"
      ]
     },
     "execution_count": 7,
     "metadata": {},
     "output_type": "execute_result"
    }
   ],
   "source": [
    "train_dataset"
   ]
  },
  {
   "cell_type": "code",
   "execution_count": 35,
   "metadata": {},
   "outputs": [],
   "source": [
    "# Function to convert model's parameters to FP32 format\n",
    "def convert_models_to_fp32(model): \n",
    "    for p in model.parameters(): \n",
    "        p.data = p.data.float() \n",
    "        p.grad.data = p.grad.data.float() "
   ]
  },
  {
   "cell_type": "code",
   "execution_count": 36,
   "metadata": {},
   "outputs": [
    {
     "name": "stderr",
     "output_type": "stream",
     "text": [
      "Epoch 0/30, Loss: 0.7202: 100%|██████████| 219/219 [00:36<00:00,  5.96it/s]\n",
      "Epoch 1/30, Loss: 0.6934: 100%|██████████| 219/219 [00:36<00:00,  6.01it/s]\n",
      "Epoch 2/30, Loss: 0.6855: 100%|██████████| 219/219 [00:36<00:00,  6.08it/s]\n",
      "Epoch 3/30, Loss: 0.6934: 100%|██████████| 219/219 [00:35<00:00,  6.23it/s]\n",
      "Epoch 4/30, Loss: 0.6934: 100%|██████████| 219/219 [00:35<00:00,  6.20it/s]\n",
      "Epoch 5/30, Loss: 0.6934: 100%|██████████| 219/219 [00:35<00:00,  6.22it/s]\n",
      "Epoch 6/30, Loss: 0.6934: 100%|██████████| 219/219 [00:35<00:00,  6.25it/s]\n",
      "Epoch 7/30, Loss: 0.6934: 100%|██████████| 219/219 [00:35<00:00,  6.23it/s]\n",
      "Epoch 8/30, Loss: 0.6934: 100%|██████████| 219/219 [00:36<00:00,  6.03it/s]\n",
      "Epoch 9/30, Loss: 0.6934: 100%|██████████| 219/219 [00:36<00:00,  6.05it/s]\n",
      "Epoch 10/30, Loss: 0.6934: 100%|██████████| 219/219 [00:35<00:00,  6.14it/s]\n",
      "Epoch 11/30, Loss: 0.6934: 100%|██████████| 219/219 [00:35<00:00,  6.15it/s]\n",
      "Epoch 12/30, Loss: 0.6934: 100%|██████████| 219/219 [00:36<00:00,  6.08it/s]\n",
      "Epoch 13/30, Loss: 0.6934: 100%|██████████| 219/219 [00:35<00:00,  6.11it/s]\n",
      "Epoch 14/30, Loss: 0.6934: 100%|██████████| 219/219 [00:35<00:00,  6.11it/s]\n",
      "Epoch 15/30, Loss: 0.6934: 100%|██████████| 219/219 [00:36<00:00,  6.06it/s]\n",
      "Epoch 16/30, Loss: 0.6934: 100%|██████████| 219/219 [00:36<00:00,  6.04it/s]\n",
      "Epoch 17/30, Loss: 0.6934: 100%|██████████| 219/219 [00:36<00:00,  6.06it/s]\n",
      "Epoch 18/30, Loss: 0.6934: 100%|██████████| 219/219 [00:36<00:00,  6.04it/s]\n",
      "Epoch 19/30, Loss: 0.6934: 100%|██████████| 219/219 [00:36<00:00,  6.06it/s]\n",
      "Epoch 20/30, Loss: 0.6934: 100%|██████████| 219/219 [00:35<00:00,  6.10it/s]\n",
      "Epoch 21/30, Loss: 0.6934: 100%|██████████| 219/219 [00:36<00:00,  6.07it/s]\n",
      "Epoch 22/30, Loss: 0.6934: 100%|██████████| 219/219 [00:35<00:00,  6.12it/s]\n",
      "Epoch 23/30, Loss: 0.6934: 100%|██████████| 219/219 [00:35<00:00,  6.16it/s]\n",
      "Epoch 24/30, Loss: 0.6934: 100%|██████████| 219/219 [00:35<00:00,  6.11it/s]\n",
      "Epoch 25/30, Loss: 0.6934: 100%|██████████| 219/219 [00:35<00:00,  6.11it/s]\n",
      "Epoch 26/30, Loss: 0.6934: 100%|██████████| 219/219 [00:36<00:00,  6.07it/s]\n",
      "Epoch 27/30, Loss: 0.6934: 100%|██████████| 219/219 [00:35<00:00,  6.12it/s]\n",
      "Epoch 28/30, Loss: 0.6934: 100%|██████████| 219/219 [00:35<00:00,  6.11it/s]\n",
      "Epoch 29/30, Loss: 0.6934: 100%|██████████| 219/219 [00:35<00:00,  6.09it/s]\n"
     ]
    }
   ],
   "source": [
    "from tqdm import tqdm\n",
    "\n",
    "optimizer = torch.optim.Adam(model.parameters(), lr=5e-5, betas=(0.9,0.98),eps=1e-6,weight_decay=0.2) # the lr is smaller, more safe for fine tuning to new dataset\n",
    "\n",
    "# Specify the loss function\n",
    "loss_img = nn.CrossEntropyLoss()\n",
    "loss_txt = nn.CrossEntropyLoss()\n",
    "\n",
    "device = 'cuda:0' if torch.cuda.is_available() else 'cpu'\n",
    "\n",
    "# Train the model\n",
    "num_epochs = 30\n",
    "for epoch in range(num_epochs):\n",
    "    pbar = tqdm(train_dataloader, total=len(train_dataloader))\n",
    "    for batch in pbar:\n",
    "        optimizer.zero_grad()\n",
    "\n",
    "        images,texts = batch \n",
    "        \n",
    "        images= images.to(device)\n",
    "        texts = texts.to(device)\n",
    "\n",
    "        # Forward pass\n",
    "        logits_per_image, logits_per_text = model(images, texts)\n",
    "\n",
    "        # Compute loss\n",
    "        ground_truth = torch.arange(len(images),dtype=torch.long,device=device)\n",
    "        total_loss = (loss_img(logits_per_image,ground_truth) + loss_txt(logits_per_text,ground_truth))/2\n",
    "\n",
    "        # Backward pass\n",
    "        total_loss.backward()\n",
    "        if device == \"cpu\":\n",
    "            optimizer.step()\n",
    "        else : \n",
    "            convert_models_to_fp32(model)\n",
    "            optimizer.step()\n",
    "            clip.model.convert_weights(model)\n",
    "\n",
    "        pbar.set_description(f\"Epoch {epoch}/{num_epochs}, Loss: {total_loss.item():.4f}\")"
   ]
  },
  {
   "cell_type": "code",
   "execution_count": 42,
   "metadata": {},
   "outputs": [],
   "source": [
    "torch.save(model.state_dict(), \"vit_v0.pth\")"
   ]
  },
  {
   "cell_type": "code",
   "execution_count": 43,
   "metadata": {},
   "outputs": [
    {
     "data": {
      "text/plain": [
       "clip.model.CLIP"
      ]
     },
     "execution_count": 43,
     "metadata": {},
     "output_type": "execute_result"
    }
   ],
   "source": [
    "type(model)"
   ]
  },
  {
   "cell_type": "code",
   "execution_count": null,
   "metadata": {},
   "outputs": [],
   "source": []
  }
 ],
 "metadata": {
  "kernelspec": {
   "display_name": "hanish",
   "language": "python",
   "name": "python3"
  },
  "language_info": {
   "codemirror_mode": {
    "name": "ipython",
    "version": 3
   },
   "file_extension": ".py",
   "mimetype": "text/x-python",
   "name": "python",
   "nbconvert_exporter": "python",
   "pygments_lexer": "ipython3",
   "version": "3.10.14"
  }
 },
 "nbformat": 4,
 "nbformat_minor": 2
}
