{
 "cells": [
  {
   "cell_type": "code",
   "execution_count": 1,
   "metadata": {},
   "outputs": [],
   "source": [
    "import pandas as pd\n",
    "import os\n",
    "import shutil"
   ]
  },
  {
   "cell_type": "code",
   "execution_count": 4,
   "metadata": {},
   "outputs": [],
   "source": [
    "df_train = pd.read_csv('train/data_train.csv')\n",
    "df_test = pd.read_csv('test/data_test.csv')"
   ]
  },
  {
   "cell_type": "code",
   "execution_count": 5,
   "metadata": {},
   "outputs": [
    {
     "data": {
      "text/plain": [
       "label\n",
       "Tumor                 69\n",
       "Leukoplakia           67\n",
       "Ulcer                 50\n",
       "Erythroleukoplakia    43\n",
       "Name: count, dtype: int64"
      ]
     },
     "execution_count": 5,
     "metadata": {},
     "output_type": "execute_result"
    }
   ],
   "source": [
    "counts_all = df_train['label'].value_counts()\n",
    "counts_all"
   ]
  },
  {
   "cell_type": "code",
   "execution_count": 6,
   "metadata": {},
   "outputs": [
    {
     "data": {
      "text/plain": [
       "label\n",
       "Leukoplakia           50\n",
       "Ulcer                 41\n",
       "Tumor                 28\n",
       "Erythroleukoplakia    18\n",
       "Name: count, dtype: int64"
      ]
     },
     "execution_count": 6,
     "metadata": {},
     "output_type": "execute_result"
    }
   ],
   "source": [
    "counts_all = df_test['label'].value_counts()\n",
    "counts_all"
   ]
  },
  {
   "cell_type": "code",
   "execution_count": 12,
   "metadata": {},
   "outputs": [
    {
     "data": {
      "text/html": [
       "<div>\n",
       "<style scoped>\n",
       "    .dataframe tbody tr th:only-of-type {\n",
       "        vertical-align: middle;\n",
       "    }\n",
       "\n",
       "    .dataframe tbody tr th {\n",
       "        vertical-align: top;\n",
       "    }\n",
       "\n",
       "    .dataframe thead th {\n",
       "        text-align: right;\n",
       "    }\n",
       "</style>\n",
       "<table border=\"1\" class=\"dataframe\">\n",
       "  <thead>\n",
       "    <tr style=\"text-align: right;\">\n",
       "      <th></th>\n",
       "      <th>label</th>\n",
       "      <th>tag</th>\n",
       "      <th>int_label</th>\n",
       "      <th>image_path</th>\n",
       "    </tr>\n",
       "    <tr>\n",
       "      <th>filename</th>\n",
       "      <th></th>\n",
       "      <th></th>\n",
       "      <th></th>\n",
       "      <th></th>\n",
       "    </tr>\n",
       "  </thead>\n",
       "  <tbody>\n",
       "    <tr>\n",
       "      <th>00_DSCN9645_2</th>\n",
       "      <td>Leukoplakia</td>\n",
       "      <td>train</td>\n",
       "      <td>3</td>\n",
       "      <td>data/train/Leukoplakia/00_DSCN9645_2.jpg</td>\n",
       "    </tr>\n",
       "    <tr>\n",
       "      <th>00_20d5f703-IMG_20190430_213225</th>\n",
       "      <td>Erythroleukoplakia</td>\n",
       "      <td>train</td>\n",
       "      <td>1</td>\n",
       "      <td>data/train/Erythroleukoplakia/00_20d5f703-IMG_...</td>\n",
       "    </tr>\n",
       "    <tr>\n",
       "      <th>109_DSCN9487</th>\n",
       "      <td>Ulcer</td>\n",
       "      <td>train</td>\n",
       "      <td>5</td>\n",
       "      <td>data/train/Ulcer/109_DSCN9487.jpg</td>\n",
       "    </tr>\n",
       "    <tr>\n",
       "      <th>137_DSCN0889</th>\n",
       "      <td>Leukoplakia</td>\n",
       "      <td>train</td>\n",
       "      <td>3</td>\n",
       "      <td>data/train/Leukoplakia/137_DSCN0889.jpg</td>\n",
       "    </tr>\n",
       "    <tr>\n",
       "      <th>46_DSCN9587</th>\n",
       "      <td>Leukoplakia</td>\n",
       "      <td>train</td>\n",
       "      <td>3</td>\n",
       "      <td>data/train/Leukoplakia/46_DSCN9587.jpg</td>\n",
       "    </tr>\n",
       "    <tr>\n",
       "      <th>...</th>\n",
       "      <td>...</td>\n",
       "      <td>...</td>\n",
       "      <td>...</td>\n",
       "      <td>...</td>\n",
       "    </tr>\n",
       "    <tr>\n",
       "      <th>116_IMG_4433</th>\n",
       "      <td>Erythroplakia</td>\n",
       "      <td>train</td>\n",
       "      <td>0</td>\n",
       "      <td>data/train/Erythroplakia/116_IMG_4433.jpg</td>\n",
       "    </tr>\n",
       "    <tr>\n",
       "      <th>82_DSCN6927</th>\n",
       "      <td>Ulcer</td>\n",
       "      <td>test</td>\n",
       "      <td>5</td>\n",
       "      <td>data/test/Ulcer/82_DSCN6927.jpg</td>\n",
       "    </tr>\n",
       "    <tr>\n",
       "      <th>81_DSCN0848</th>\n",
       "      <td>Leukoplakia</td>\n",
       "      <td>test</td>\n",
       "      <td>3</td>\n",
       "      <td>data/test/Leukoplakia/81_DSCN0848.jpg</td>\n",
       "    </tr>\n",
       "    <tr>\n",
       "      <th>00_a972b414-20221210_182005</th>\n",
       "      <td>Leukoplakia</td>\n",
       "      <td>train</td>\n",
       "      <td>3</td>\n",
       "      <td>data/train/Leukoplakia/00_a972b414-20221210_18...</td>\n",
       "    </tr>\n",
       "    <tr>\n",
       "      <th>40_DSCN0536</th>\n",
       "      <td>Leukoplakia</td>\n",
       "      <td>train</td>\n",
       "      <td>3</td>\n",
       "      <td>data/train/Leukoplakia/40_DSCN0536.jpg</td>\n",
       "    </tr>\n",
       "  </tbody>\n",
       "</table>\n",
       "<p>874 rows × 4 columns</p>\n",
       "</div>"
      ],
      "text/plain": [
       "                                              label    tag  int_label  \\\n",
       "filename                                                                \n",
       "00_DSCN9645_2                           Leukoplakia  train          3   \n",
       "00_20d5f703-IMG_20190430_213225  Erythroleukoplakia  train          1   \n",
       "109_DSCN9487                                  Ulcer  train          5   \n",
       "137_DSCN0889                            Leukoplakia  train          3   \n",
       "46_DSCN9587                             Leukoplakia  train          3   \n",
       "...                                             ...    ...        ...   \n",
       "116_IMG_4433                          Erythroplakia  train          0   \n",
       "82_DSCN6927                                   Ulcer   test          5   \n",
       "81_DSCN0848                             Leukoplakia   test          3   \n",
       "00_a972b414-20221210_182005             Leukoplakia  train          3   \n",
       "40_DSCN0536                             Leukoplakia  train          3   \n",
       "\n",
       "                                                                        image_path  \n",
       "filename                                                                            \n",
       "00_DSCN9645_2                             data/train/Leukoplakia/00_DSCN9645_2.jpg  \n",
       "00_20d5f703-IMG_20190430_213225  data/train/Erythroleukoplakia/00_20d5f703-IMG_...  \n",
       "109_DSCN9487                                     data/train/Ulcer/109_DSCN9487.jpg  \n",
       "137_DSCN0889                               data/train/Leukoplakia/137_DSCN0889.jpg  \n",
       "46_DSCN9587                                 data/train/Leukoplakia/46_DSCN9587.jpg  \n",
       "...                                                                            ...  \n",
       "116_IMG_4433                             data/train/Erythroplakia/116_IMG_4433.jpg  \n",
       "82_DSCN6927                                        data/test/Ulcer/82_DSCN6927.jpg  \n",
       "81_DSCN0848                                  data/test/Leukoplakia/81_DSCN0848.jpg  \n",
       "00_a972b414-20221210_182005      data/train/Leukoplakia/00_a972b414-20221210_18...  \n",
       "40_DSCN0536                                 data/train/Leukoplakia/40_DSCN0536.jpg  \n",
       "\n",
       "[874 rows x 4 columns]"
      ]
     },
     "execution_count": 12,
     "metadata": {},
     "output_type": "execute_result"
    }
   ],
   "source": [
    "df_org = pd.read_csv('../data/data.csv', index_col='filename')\n",
    "df_org"
   ]
  },
  {
   "cell_type": "code",
   "execution_count": 21,
   "metadata": {},
   "outputs": [
    {
     "data": {
      "text/plain": [
       "(229, 137, 366, 874)"
      ]
     },
     "execution_count": 21,
     "metadata": {},
     "output_type": "execute_result"
    }
   ],
   "source": [
    "len(df_train), len(df_test), len(df_train)+len(df_test) ,len(df_org)\n"
   ]
  },
  {
   "cell_type": "code",
   "execution_count": 15,
   "metadata": {},
   "outputs": [
    {
     "name": "stdout",
     "output_type": "stream",
     "text": [
      "['Tumor', 'Erythroleukoplakia', 'Ulcer', 'Leukoplakia']\n"
     ]
    }
   ],
   "source": [
    "labels = list(set(df_test['label'].to_list()))\n",
    "print(labels)\n",
    "\n",
    "# for lab in labels:\n",
    "    # os.mkdir('train/' + lab)\n",
    "    # os.mkdir('test/' + lab)"
   ]
  },
  {
   "cell_type": "code",
   "execution_count": 16,
   "metadata": {},
   "outputs": [],
   "source": [
    "train_path = []\n",
    "for filename, lab in zip(df_train['filename'], df_train['label']):\n",
    "    img_path = f'train/{lab}/{filename}.jpg'\n",
    "    # print(img_path)\n",
    "    shutil.copy2(f\"../{df_org.loc[filename]['image_path']}\", img_path)\n",
    "    train_path.append('data_balanced/' + img_path)"
   ]
  },
  {
   "cell_type": "code",
   "execution_count": 17,
   "metadata": {},
   "outputs": [
    {
     "name": "stdout",
     "output_type": "stream",
     "text": [
      "test/Erythroleukoplakia/00_home_281.jpg\n",
      "test/Erythroleukoplakia/00_0597dc42-IMG_20190430_213250.jpg\n",
      "test/Erythroleukoplakia/00_762814ab-IMG_20190501_063959.jpg\n",
      "test/Erythroleukoplakia/9_DSCN0173.jpg\n",
      "test/Erythroleukoplakia/00_11fe2a47-SAVE_20200202_122110.jpg\n",
      "test/Erythroleukoplakia/00_5a39c33b-IMG_20190430_213316.jpg\n",
      "test/Erythroleukoplakia/00_5fcf6c50-SAVE_20190918_205901.jpg\n",
      "test/Erythroleukoplakia/84_DSCN0152.jpg\n",
      "test/Erythroleukoplakia/00_20d5f703-IMG_20190430_213225.jpg\n",
      "test/Erythroleukoplakia/00_11f464a5-IMG_20190501_070350.jpg\n",
      "test/Erythroleukoplakia/00_4304f070-20230628_211156.jpg\n",
      "test/Erythroleukoplakia/52_DSCN0150.jpg\n",
      "test/Erythroleukoplakia/00_8ce4605e-SAVE_20190918_205901.jpg\n",
      "test/Erythroleukoplakia/00_home_297.jpg\n",
      "test/Erythroleukoplakia/00_home_296.jpg\n",
      "test/Erythroleukoplakia/00_home_295.jpg\n",
      "test/Erythroleukoplakia/00_home_284.jpg\n",
      "test/Erythroleukoplakia/84_DSCN0151.jpg\n",
      "test/Leukoplakia/41_DSCN8634.jpg\n",
      "test/Leukoplakia/40_DSCN0546.jpg\n",
      "test/Leukoplakia/40_DSCN0542.jpg\n",
      "test/Leukoplakia/3_DSCN9211.jpg\n",
      "test/Leukoplakia/54_IMG_0985.jpg\n",
      "test/Leukoplakia/79_DSCN0962.jpg\n",
      "test/Leukoplakia/53_DSCN0300.jpg\n",
      "test/Leukoplakia/54_IMG_0986.jpg\n",
      "test/Leukoplakia/42_DSCN6066.jpg\n",
      "test/Leukoplakia/3_DSCN9208.jpg\n",
      "test/Leukoplakia/45_DSCN6716.jpg\n",
      "test/Leukoplakia/80_IMG_0110.jpg\n",
      "test/Leukoplakia/47_DSCN9614.jpg\n",
      "test/Leukoplakia/48_DSCN9687.jpg\n",
      "test/Leukoplakia/53_DSCN0302.jpg\n",
      "test/Leukoplakia/79_DSCN0963.jpg\n",
      "test/Leukoplakia/95_DSCN0111.jpg\n",
      "test/Leukoplakia/81_DSCN0847.jpg\n",
      "test/Leukoplakia/90_DSCN9426.jpg\n",
      "test/Leukoplakia/69_DSCN4192.jpg\n",
      "test/Leukoplakia/80_IMG_0108.jpg\n",
      "test/Leukoplakia/7_DSCN9091.jpg\n",
      "test/Leukoplakia/8_20170809_184707.jpg\n",
      "test/Leukoplakia/46_DSCN9587.jpg\n",
      "test/Leukoplakia/68_DSCN9786.jpg\n",
      "test/Leukoplakia/62_DSCN6854.jpg\n",
      "test/Leukoplakia/64_IMG_0786.jpg\n",
      "test/Leukoplakia/33_DSCN8756.jpg\n",
      "test/Leukoplakia/33_DSCN8751.jpg\n",
      "test/Leukoplakia/78_20160728_175540.jpg\n",
      "test/Leukoplakia/22_DSCN9381.jpg\n",
      "test/Leukoplakia/24_DSCN5960.jpg\n",
      "test/Leukoplakia/66_DSCN7347.jpg\n",
      "test/Leukoplakia/34_DSCN9831.jpg\n",
      "test/Leukoplakia/27_IMG_1332.jpg\n",
      "test/Leukoplakia/28_DSCN6640.jpg\n",
      "test/Leukoplakia/75_DSCN6901.jpg\n",
      "test/Leukoplakia/1_DSCN0007.jpg\n",
      "test/Leukoplakia/26_DSCN7708.jpg\n",
      "test/Leukoplakia/29_DSCN2191.jpg\n",
      "test/Leukoplakia/22_DSCN9380.jpg\n",
      "test/Leukoplakia/62_DSCN6851.jpg\n",
      "test/Leukoplakia/59_IMG_0818.jpg\n",
      "test/Leukoplakia/72_DSCN0002.jpg\n",
      "test/Leukoplakia/61_DSCN2291.jpg\n",
      "test/Leukoplakia/56_DSCN9972.jpg\n",
      "test/Leukoplakia/55_DSCN9640.jpg\n",
      "test/Leukoplakia/30_DSCN7823.jpg\n",
      "test/Leukoplakia/29_DSCN2193.jpg\n",
      "test/Leukoplakia/56_IMG_3076.jpg\n",
      "test/Tumor/00_74c174b7-IMG_20190618_200243.jpg\n",
      "test/Tumor/00_4e803bfb-IMG_20190615_075208.jpg\n",
      "test/Tumor/00_95c774d3-20220325_210531.jpg\n",
      "test/Tumor/00_5ba91745-SAVE_20190918_212903.jpg\n",
      "test/Tumor/00_718ec056-IMG_20190618_200319.jpg\n",
      "test/Tumor/00_7b564c26-IMG_20190618_200254.jpg\n",
      "test/Tumor/9_DSCN0184.jpg\n",
      "test/Tumor/00_85a48914-IMG_20190614_202150.jpg\n",
      "test/Tumor/00_87a263ce-20221008_184036.jpg\n",
      "test/Tumor/00_8d2d1d6c-SAVE_20190918_210425.jpg\n",
      "test/Tumor/00_00000115.jpg\n",
      "test/Tumor/00_4bff583b-IMG_20190618_200309.jpg\n",
      "test/Tumor/00_855c383d-SAVE_20190918_210344.jpg\n",
      "test/Tumor/00_4a8425eb-IMG_20191209_124405.jpg\n",
      "test/Tumor/00_979a26bf-IMG_20190618_200217.jpg\n",
      "test/Tumor/00_37b0e262-IMG_20191114_232043.jpg\n",
      "test/Tumor/00_471071ce-IMG_20190618_200203.jpg\n",
      "test/Tumor/92_DSCN9731.jpg\n",
      "test/Tumor/92_DSCN9727.jpg\n",
      "test/Tumor/00_a67e8acb-IMG_20191209_124252.jpg\n",
      "test/Tumor/00_941c12f1-SAVE_20191105_150757.jpg\n",
      "test/Tumor/92_DSCN9728.jpg\n",
      "test/Tumor/00_1af1b5f3-20220325_210800.jpg\n",
      "test/Tumor/00_23aa757c-20220325_210622.jpg\n",
      "test/Tumor/00_2550b53a-20220325_210727.jpg\n",
      "test/Tumor/00_2dce915a-SAVE_20190918_210038.jpg\n",
      "test/Tumor/00_30c982c4-20220325_210753.jpg\n",
      "test/Tumor/00_0afe094b-IMG_20190614_202404.jpg\n",
      "test/Ulcer/00_697ab457-SAVE_20200118_153210.jpg\n",
      "test/Ulcer/00_2a7d2305-IMG_20190614_202054.jpg\n",
      "test/Ulcer/00_37455ae2-20211215_192141.jpg\n",
      "test/Ulcer/00_4362f9e0-IMG_20200118_153438.jpg\n",
      "test/Ulcer/00_DSCN9535_2.jpg\n",
      "test/Ulcer/00_492eaa0d-20210203_213612.jpg\n",
      "test/Ulcer/00_59d5bff9-20210203_213714.jpg\n",
      "test/Ulcer/00_75a8d76e-20220629_191153.jpg\n",
      "test/Ulcer/25_IMG_0307.jpg\n",
      "test/Ulcer/00_887f1986-20210203_213532.jpg\n",
      "test/Ulcer/00_8e5aa2da-20221025_211733.jpg\n",
      "test/Ulcer/00_5585829d-IMG_20191209_124136.jpg\n",
      "test/Ulcer/1_DSCN0018.jpg\n",
      "test/Ulcer/00_17d429f5-20220915_184531.jpg\n",
      "test/Ulcer/27_DSCN9559.jpg\n",
      "test/Ulcer/29_DSCN2199.jpg\n",
      "test/Ulcer/47_DSCN9617.jpg\n",
      "test/Ulcer/00_7651ad02-20220910_183106.jpg\n",
      "test/Ulcer/00_0164d58b-SAVE_20200118_153253.jpg\n",
      "test/Ulcer/00_a083c9be-20211119_185438.jpg\n",
      "test/Ulcer/00_96205333-20211208_183125.jpg\n",
      "test/Ulcer/1_DSCN0017.jpg\n",
      "test/Ulcer/99_DSCN8411.jpg\n",
      "test/Ulcer/99_DSCN8412.jpg\n",
      "test/Ulcer/7_DSCN9083.jpg\n",
      "test/Ulcer/90_IMG_3782.jpg\n",
      "test/Ulcer/90_IMG_3785.jpg\n",
      "test/Ulcer/91_DSCN9722.jpg\n",
      "test/Ulcer/91_DSCN9724.jpg\n",
      "test/Ulcer/00_0101ffe9-20221217_210108.jpg\n",
      "test/Ulcer/91_DSCN9725.jpg\n",
      "test/Ulcer/00_DSCN9824_2.jpg\n",
      "test/Ulcer/00_DSCN9825_2.jpg\n",
      "test/Ulcer/00_DSCN9826_2.jpg\n",
      "test/Ulcer/00_DSCN9827_2.jpg\n",
      "test/Ulcer/00_a5b4cb50-IMG_20200203_001017.jpg\n",
      "test/Ulcer/00_DSCN9823_2.jpg\n",
      "test/Ulcer/00_a82b6c1b-20220915_184545.jpg\n",
      "test/Ulcer/00_DSCN9819_2.jpg\n",
      "test/Ulcer/97_DSCN9757.jpg\n",
      "test/Ulcer/9_DSCN5993.jpg\n"
     ]
    }
   ],
   "source": [
    "test_path = []\n",
    "for filename, lab in zip(df_test['filename'], df_test['label']):\n",
    "    img_path = f'test/{lab}/{filename}.jpg'\n",
    "    print(img_path)\n",
    "    shutil.copy2(f\"../{df_org.loc[filename]['image_path']}\", img_path)\n",
    "    test_path.append('data_balanced/' + img_path)"
   ]
  },
  {
   "cell_type": "code",
   "execution_count": 18,
   "metadata": {},
   "outputs": [],
   "source": [
    "df_train['image_path'] = train_path\n",
    "df_test['image_path'] = test_path"
   ]
  },
  {
   "cell_type": "code",
   "execution_count": 27,
   "metadata": {},
   "outputs": [
    {
     "data": {
      "text/html": [
       "<div>\n",
       "<style scoped>\n",
       "    .dataframe tbody tr th:only-of-type {\n",
       "        vertical-align: middle;\n",
       "    }\n",
       "\n",
       "    .dataframe tbody tr th {\n",
       "        vertical-align: top;\n",
       "    }\n",
       "\n",
       "    .dataframe thead th {\n",
       "        text-align: right;\n",
       "    }\n",
       "</style>\n",
       "<table border=\"1\" class=\"dataframe\">\n",
       "  <thead>\n",
       "    <tr style=\"text-align: right;\">\n",
       "      <th></th>\n",
       "      <th>filename</th>\n",
       "      <th>label</th>\n",
       "      <th>int_label</th>\n",
       "      <th>image_path</th>\n",
       "    </tr>\n",
       "  </thead>\n",
       "  <tbody>\n",
       "    <tr>\n",
       "      <th>0</th>\n",
       "      <td>00_home_281</td>\n",
       "      <td>Erythroleukoplakia</td>\n",
       "      <td>1</td>\n",
       "      <td>data_balanced/test/Erythroleukoplakia/00_home_...</td>\n",
       "    </tr>\n",
       "    <tr>\n",
       "      <th>1</th>\n",
       "      <td>00_0597dc42-IMG_20190430_213250</td>\n",
       "      <td>Erythroleukoplakia</td>\n",
       "      <td>1</td>\n",
       "      <td>data_balanced/test/Erythroleukoplakia/00_0597d...</td>\n",
       "    </tr>\n",
       "    <tr>\n",
       "      <th>2</th>\n",
       "      <td>00_762814ab-IMG_20190501_063959</td>\n",
       "      <td>Erythroleukoplakia</td>\n",
       "      <td>1</td>\n",
       "      <td>data_balanced/test/Erythroleukoplakia/00_76281...</td>\n",
       "    </tr>\n",
       "    <tr>\n",
       "      <th>3</th>\n",
       "      <td>9_DSCN0173</td>\n",
       "      <td>Erythroleukoplakia</td>\n",
       "      <td>1</td>\n",
       "      <td>data_balanced/test/Erythroleukoplakia/9_DSCN01...</td>\n",
       "    </tr>\n",
       "    <tr>\n",
       "      <th>4</th>\n",
       "      <td>00_11fe2a47-SAVE_20200202_122110</td>\n",
       "      <td>Erythroleukoplakia</td>\n",
       "      <td>1</td>\n",
       "      <td>data_balanced/test/Erythroleukoplakia/00_11fe2...</td>\n",
       "    </tr>\n",
       "    <tr>\n",
       "      <th>...</th>\n",
       "      <td>...</td>\n",
       "      <td>...</td>\n",
       "      <td>...</td>\n",
       "      <td>...</td>\n",
       "    </tr>\n",
       "    <tr>\n",
       "      <th>132</th>\n",
       "      <td>00_DSCN9823_2</td>\n",
       "      <td>Ulcer</td>\n",
       "      <td>5</td>\n",
       "      <td>data_balanced/test/Ulcer/00_DSCN9823_2.jpg</td>\n",
       "    </tr>\n",
       "    <tr>\n",
       "      <th>133</th>\n",
       "      <td>00_a82b6c1b-20220915_184545</td>\n",
       "      <td>Ulcer</td>\n",
       "      <td>5</td>\n",
       "      <td>data_balanced/test/Ulcer/00_a82b6c1b-20220915_...</td>\n",
       "    </tr>\n",
       "    <tr>\n",
       "      <th>134</th>\n",
       "      <td>00_DSCN9819_2</td>\n",
       "      <td>Ulcer</td>\n",
       "      <td>5</td>\n",
       "      <td>data_balanced/test/Ulcer/00_DSCN9819_2.jpg</td>\n",
       "    </tr>\n",
       "    <tr>\n",
       "      <th>135</th>\n",
       "      <td>97_DSCN9757</td>\n",
       "      <td>Ulcer</td>\n",
       "      <td>5</td>\n",
       "      <td>data_balanced/test/Ulcer/97_DSCN9757.jpg</td>\n",
       "    </tr>\n",
       "    <tr>\n",
       "      <th>136</th>\n",
       "      <td>9_DSCN5993</td>\n",
       "      <td>Ulcer</td>\n",
       "      <td>5</td>\n",
       "      <td>data_balanced/test/Ulcer/9_DSCN5993.jpg</td>\n",
       "    </tr>\n",
       "  </tbody>\n",
       "</table>\n",
       "<p>137 rows × 4 columns</p>\n",
       "</div>"
      ],
      "text/plain": [
       "                             filename               label  int_label  \\\n",
       "0                         00_home_281  Erythroleukoplakia          1   \n",
       "1     00_0597dc42-IMG_20190430_213250  Erythroleukoplakia          1   \n",
       "2     00_762814ab-IMG_20190501_063959  Erythroleukoplakia          1   \n",
       "3                          9_DSCN0173  Erythroleukoplakia          1   \n",
       "4    00_11fe2a47-SAVE_20200202_122110  Erythroleukoplakia          1   \n",
       "..                                ...                 ...        ...   \n",
       "132                     00_DSCN9823_2               Ulcer          5   \n",
       "133       00_a82b6c1b-20220915_184545               Ulcer          5   \n",
       "134                     00_DSCN9819_2               Ulcer          5   \n",
       "135                       97_DSCN9757               Ulcer          5   \n",
       "136                        9_DSCN5993               Ulcer          5   \n",
       "\n",
       "                                            image_path  \n",
       "0    data_balanced/test/Erythroleukoplakia/00_home_...  \n",
       "1    data_balanced/test/Erythroleukoplakia/00_0597d...  \n",
       "2    data_balanced/test/Erythroleukoplakia/00_76281...  \n",
       "3    data_balanced/test/Erythroleukoplakia/9_DSCN01...  \n",
       "4    data_balanced/test/Erythroleukoplakia/00_11fe2...  \n",
       "..                                                 ...  \n",
       "132         data_balanced/test/Ulcer/00_DSCN9823_2.jpg  \n",
       "133  data_balanced/test/Ulcer/00_a82b6c1b-20220915_...  \n",
       "134         data_balanced/test/Ulcer/00_DSCN9819_2.jpg  \n",
       "135           data_balanced/test/Ulcer/97_DSCN9757.jpg  \n",
       "136            data_balanced/test/Ulcer/9_DSCN5993.jpg  \n",
       "\n",
       "[137 rows x 4 columns]"
      ]
     },
     "execution_count": 27,
     "metadata": {},
     "output_type": "execute_result"
    }
   ],
   "source": [
    "df_test"
   ]
  },
  {
   "cell_type": "code",
   "execution_count": 28,
   "metadata": {},
   "outputs": [
    {
     "data": {
      "text/plain": [
       "(43, 50, 67, 69)"
      ]
     },
     "execution_count": 28,
     "metadata": {},
     "output_type": "execute_result"
    }
   ],
   "source": [
    "Erythroleukoplakia = os.listdir('train/Erythroleukoplakia')\n",
    "Ulcer = os.listdir('train/Ulcer')\n",
    "Leukoplakia = os.listdir('train/Leukoplakia')\n",
    "Tumor = os.listdir('train/Tumor')\n",
    "len(Erythroleukoplakia), len(Ulcer), len(Leukoplakia), len(Tumor)"
   ]
  },
  {
   "cell_type": "code",
   "execution_count": 29,
   "metadata": {},
   "outputs": [
    {
     "name": "stdout",
     "output_type": "stream",
     "text": [
      "Original label\n",
      "Leukoplakia           382\n",
      "Ulcer                 257\n",
      "Tumor                  97\n",
      "Erythroleukoplakia     61\n",
      "Keratosis              48\n",
      "Erythroplakia          29\n",
      "Name: count, dtype: int64 train label\n",
      "Tumor                 69\n",
      "Leukoplakia           67\n",
      "Ulcer                 50\n",
      "Erythroleukoplakia    43\n",
      "Name: count, dtype: int64 test\n"
     ]
    }
   ],
   "source": [
    "counts_all = df_org['label'].value_counts()\n",
    "counts_train = df_train['label'].value_counts()\n",
    "counts_test = df_test['label'].value_counts()\n",
    "\n",
    "print('Original',counts_all, 'train', counts_train, 'test', )#counts_test, sep='\\n*********\\n')"
   ]
  },
  {
   "cell_type": "code",
   "execution_count": 32,
   "metadata": {},
   "outputs": [
    {
     "name": "stderr",
     "output_type": "stream",
     "text": [
      "/tmp/ipykernel_87147/1262037521.py:11: FutureWarning: Series.__getitem__ treating keys as positions is deprecated. In a future version, integer keys will always be treated as labels (consistent with DataFrame behavior). To access a value by position, use `ser.iloc[pos]`\n",
      "  ax1.text(i,counts_all[i],counts_all[i])\n",
      "/tmp/ipykernel_87147/1262037521.py:21: FutureWarning: Series.__getitem__ treating keys as positions is deprecated. In a future version, integer keys will always be treated as labels (consistent with DataFrame behavior). To access a value by position, use `ser.iloc[pos]`\n",
      "  ax2.text(i,counts_train[i],counts_train[i])\n",
      "/tmp/ipykernel_87147/1262037521.py:31: FutureWarning: Series.__getitem__ treating keys as positions is deprecated. In a future version, integer keys will always be treated as labels (consistent with DataFrame behavior). To access a value by position, use `ser.iloc[pos]`\n",
      "  ax3.text(i,counts_test[i],counts_test[i])\n"
     ]
    },
    {
     "data": {
      "image/png": "[encoded data removed]",
      "text/plain": [
       "<Figure size 1600x800 with 3 Axes>"
      ]
     },
     "metadata": {},
     "output_type": "display_data"
    }
   ],
   "source": [
    "import matplotlib.pyplot as plt\n",
    "from matplotlib.gridspec import GridSpec\n",
    "\n",
    "gs = GridSpec(3, 3)\n",
    "fig = plt.figure(figsize=(16, 8))\n",
    "\n",
    "# All data\n",
    "ax1 = fig.add_subplot(gs[0,0])\n",
    "ax1.bar(counts_all.keys(), counts_all)\n",
    "for i in range(len(counts_all.keys())):\n",
    "    ax1.text(i,counts_all[i],counts_all[i])\n",
    "ax1.set_xticks(range(len(counts_all.keys())))\n",
    "ax1.set_xticklabels(counts_all.keys())\n",
    "ax1.tick_params(axis='x', rotation=35)\n",
    "ax1.set_title('Original Data count')\n",
    "\n",
    "# train data\n",
    "ax2 = fig.add_subplot(gs[0,1])\n",
    "ax2.bar(counts_train.keys(), counts_train)\n",
    "for i in range(len(counts_train.keys())):\n",
    "    ax2.text(i,counts_train[i],counts_train[i])\n",
    "ax2.set_xticks(range(len(counts_train.keys())))\n",
    "ax2.set_xticklabels(counts_train.keys())\n",
    "ax2.tick_params(axis='x', rotation=35)\n",
    "ax2.set_title('Train Data count')\n",
    "\n",
    "# test data\n",
    "ax3 = fig.add_subplot(gs[0,2])\n",
    "ax3.bar(counts_test.keys(), counts_test)\n",
    "for i in range(len(counts_test.keys())):\n",
    "    ax3.text(i,counts_test[i],counts_test[i])\n",
    "ax3.set_xticks(range(len(counts_test.keys())))\n",
    "ax3.set_xticklabels(counts_test.keys())\n",
    "ax3.tick_params(axis='x', rotation=35)\n",
    "ax3.set_title('Test Data count')\n",
    "\n",
    "plt.show()"
   ]
  },
  {
   "cell_type": "code",
   "execution_count": 31,
   "metadata": {},
   "outputs": [],
   "source": [
    "df_train.to_csv('train/data_train.csv', index=False)\n",
    "df_test.to_csv('test/data_test.csv', index=False)"
   ]
  },
  {
   "cell_type": "code",
   "execution_count": null,
   "metadata": {},
   "outputs": [],
   "source": []
  }
 ],
 "metadata": {
  "kernelspec": {
   "display_name": "hanish",
   "language": "python",
   "name": "python3"
  },
  "language_info": {
   "codemirror_mode": {
    "name": "ipython",
    "version": 3
   },
   "file_extension": ".py",
   "mimetype": "text/x-python",
   "name": "python",
   "nbconvert_exporter": "python",
   "pygments_lexer": "ipython3",
   "version": "3.10.14"
  }
 },
 "nbformat": 4,
 "nbformat_minor": 2
}
