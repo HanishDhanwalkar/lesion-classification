{
 "cells": [
  {
   "cell_type": "code",
   "execution_count": 19,
   "metadata": {},
   "outputs": [],
   "source": [
    "import pandas as pd\n",
    "import os\n",
    "import shutil"
   ]
  },
  {
   "cell_type": "code",
   "execution_count": 15,
   "metadata": {},
   "outputs": [
    {
     "data": {
      "text/html": [
       "<div>\n",
       "<style scoped>\n",
       "    .dataframe tbody tr th:only-of-type {\n",
       "        vertical-align: middle;\n",
       "    }\n",
       "\n",
       "    .dataframe tbody tr th {\n",
       "        vertical-align: top;\n",
       "    }\n",
       "\n",
       "    .dataframe thead th {\n",
       "        text-align: right;\n",
       "    }\n",
       "</style>\n",
       "<table border=\"1\" class=\"dataframe\">\n",
       "  <thead>\n",
       "    <tr style=\"text-align: right;\">\n",
       "      <th></th>\n",
       "      <th>filename</th>\n",
       "      <th>label</th>\n",
       "      <th>int_label</th>\n",
       "    </tr>\n",
       "  </thead>\n",
       "  <tbody>\n",
       "    <tr>\n",
       "      <th>0</th>\n",
       "      <td>00_home_281</td>\n",
       "      <td>Erythroleukoplakia</td>\n",
       "      <td>1</td>\n",
       "    </tr>\n",
       "    <tr>\n",
       "      <th>1</th>\n",
       "      <td>00_0597dc42-IMG_20190430_213250</td>\n",
       "      <td>Erythroleukoplakia</td>\n",
       "      <td>1</td>\n",
       "    </tr>\n",
       "    <tr>\n",
       "      <th>2</th>\n",
       "      <td>00_762814ab-IMG_20190501_063959</td>\n",
       "      <td>Erythroleukoplakia</td>\n",
       "      <td>1</td>\n",
       "    </tr>\n",
       "    <tr>\n",
       "      <th>3</th>\n",
       "      <td>9_DSCN0173</td>\n",
       "      <td>Erythroleukoplakia</td>\n",
       "      <td>1</td>\n",
       "    </tr>\n",
       "    <tr>\n",
       "      <th>4</th>\n",
       "      <td>00_11fe2a47-SAVE_20200202_122110</td>\n",
       "      <td>Erythroleukoplakia</td>\n",
       "      <td>1</td>\n",
       "    </tr>\n",
       "    <tr>\n",
       "      <th>...</th>\n",
       "      <td>...</td>\n",
       "      <td>...</td>\n",
       "      <td>...</td>\n",
       "    </tr>\n",
       "    <tr>\n",
       "      <th>132</th>\n",
       "      <td>00_DSCN9823_2</td>\n",
       "      <td>Ulcer</td>\n",
       "      <td>5</td>\n",
       "    </tr>\n",
       "    <tr>\n",
       "      <th>133</th>\n",
       "      <td>00_a82b6c1b-20220915_184545</td>\n",
       "      <td>Ulcer</td>\n",
       "      <td>5</td>\n",
       "    </tr>\n",
       "    <tr>\n",
       "      <th>134</th>\n",
       "      <td>00_DSCN9819_2</td>\n",
       "      <td>Ulcer</td>\n",
       "      <td>5</td>\n",
       "    </tr>\n",
       "    <tr>\n",
       "      <th>135</th>\n",
       "      <td>97_DSCN9757</td>\n",
       "      <td>Ulcer</td>\n",
       "      <td>5</td>\n",
       "    </tr>\n",
       "    <tr>\n",
       "      <th>136</th>\n",
       "      <td>9_DSCN5993</td>\n",
       "      <td>Ulcer</td>\n",
       "      <td>5</td>\n",
       "    </tr>\n",
       "  </tbody>\n",
       "</table>\n",
       "<p>137 rows × 3 columns</p>\n",
       "</div>"
      ],
      "text/plain": [
       "                             filename               label  int_label\n",
       "0                         00_home_281  Erythroleukoplakia          1\n",
       "1     00_0597dc42-IMG_20190430_213250  Erythroleukoplakia          1\n",
       "2     00_762814ab-IMG_20190501_063959  Erythroleukoplakia          1\n",
       "3                          9_DSCN0173  Erythroleukoplakia          1\n",
       "4    00_11fe2a47-SAVE_20200202_122110  Erythroleukoplakia          1\n",
       "..                                ...                 ...        ...\n",
       "132                     00_DSCN9823_2               Ulcer          5\n",
       "133       00_a82b6c1b-20220915_184545               Ulcer          5\n",
       "134                     00_DSCN9819_2               Ulcer          5\n",
       "135                       97_DSCN9757               Ulcer          5\n",
       "136                        9_DSCN5993               Ulcer          5\n",
       "\n",
       "[137 rows x 3 columns]"
      ]
     },
     "execution_count": 15,
     "metadata": {},
     "output_type": "execute_result"
    }
   ],
   "source": [
    "df_train = pd.read_csv('train2/data_train.csv')\n",
    "df_test = pd.read_csv('test2/data_test.csv')\n",
    "\n",
    "df_train.drop(columns=['path'])\n",
    "df_test.drop(columns=['path'])"
   ]
  },
  {
   "cell_type": "code",
   "execution_count": 12,
   "metadata": {},
   "outputs": [
    {
     "data": {
      "text/plain": [
       "label\n",
       "Tumor                 69\n",
       "Leukoplakia           67\n",
       "Ulcer                 50\n",
       "Erythroleukoplakia    43\n",
       "Name: count, dtype: int64"
      ]
     },
     "execution_count": 12,
     "metadata": {},
     "output_type": "execute_result"
    }
   ],
   "source": [
    "counts_all = df_train['label'].value_counts()\n",
    "counts_all"
   ]
  },
  {
   "cell_type": "code",
   "execution_count": 8,
   "metadata": {},
   "outputs": [
    {
     "data": {
      "text/plain": [
       "label\n",
       "Leukoplakia           50\n",
       "Ulcer                 41\n",
       "Tumor                 28\n",
       "Erythroleukoplakia    18\n",
       "Name: count, dtype: int64"
      ]
     },
     "execution_count": 8,
     "metadata": {},
     "output_type": "execute_result"
    }
   ],
   "source": [
    "counts_all = df_test['label'].value_counts()\n",
    "counts_all"
   ]
  },
  {
   "cell_type": "code",
   "execution_count": 21,
   "metadata": {},
   "outputs": [
    {
     "data": {
      "text/html": [
       "<div>\n",
       "<style scoped>\n",
       "    .dataframe tbody tr th:only-of-type {\n",
       "        vertical-align: middle;\n",
       "    }\n",
       "\n",
       "    .dataframe tbody tr th {\n",
       "        vertical-align: top;\n",
       "    }\n",
       "\n",
       "    .dataframe thead th {\n",
       "        text-align: right;\n",
       "    }\n",
       "</style>\n",
       "<table border=\"1\" class=\"dataframe\">\n",
       "  <thead>\n",
       "    <tr style=\"text-align: right;\">\n",
       "      <th></th>\n",
       "      <th>label</th>\n",
       "      <th>tag</th>\n",
       "      <th>int_label</th>\n",
       "      <th>image_path</th>\n",
       "    </tr>\n",
       "    <tr>\n",
       "      <th>filename</th>\n",
       "      <th></th>\n",
       "      <th></th>\n",
       "      <th></th>\n",
       "      <th></th>\n",
       "    </tr>\n",
       "  </thead>\n",
       "  <tbody>\n",
       "    <tr>\n",
       "      <th>00_DSCN9645_2</th>\n",
       "      <td>Leukoplakia</td>\n",
       "      <td>train</td>\n",
       "      <td>3</td>\n",
       "      <td>data/train/Leukoplakia/00_DSCN9645_2.jpg</td>\n",
       "    </tr>\n",
       "    <tr>\n",
       "      <th>00_20d5f703-IMG_20190430_213225</th>\n",
       "      <td>Erythroleukoplakia</td>\n",
       "      <td>train</td>\n",
       "      <td>1</td>\n",
       "      <td>data/train/Erythroleukoplakia/00_20d5f703-IMG_...</td>\n",
       "    </tr>\n",
       "    <tr>\n",
       "      <th>109_DSCN9487</th>\n",
       "      <td>Ulcer</td>\n",
       "      <td>train</td>\n",
       "      <td>5</td>\n",
       "      <td>data/train/Ulcer/109_DSCN9487.jpg</td>\n",
       "    </tr>\n",
       "    <tr>\n",
       "      <th>137_DSCN0889</th>\n",
       "      <td>Leukoplakia</td>\n",
       "      <td>train</td>\n",
       "      <td>3</td>\n",
       "      <td>data/train/Leukoplakia/137_DSCN0889.jpg</td>\n",
       "    </tr>\n",
       "    <tr>\n",
       "      <th>46_DSCN9587</th>\n",
       "      <td>Leukoplakia</td>\n",
       "      <td>train</td>\n",
       "      <td>3</td>\n",
       "      <td>data/train/Leukoplakia/46_DSCN9587.jpg</td>\n",
       "    </tr>\n",
       "    <tr>\n",
       "      <th>...</th>\n",
       "      <td>...</td>\n",
       "      <td>...</td>\n",
       "      <td>...</td>\n",
       "      <td>...</td>\n",
       "    </tr>\n",
       "    <tr>\n",
       "      <th>116_IMG_4433</th>\n",
       "      <td>Erythroplakia</td>\n",
       "      <td>train</td>\n",
       "      <td>0</td>\n",
       "      <td>data/train/Erythroplakia/116_IMG_4433.jpg</td>\n",
       "    </tr>\n",
       "    <tr>\n",
       "      <th>82_DSCN6927</th>\n",
       "      <td>Ulcer</td>\n",
       "      <td>test</td>\n",
       "      <td>5</td>\n",
       "      <td>data/test/Ulcer/82_DSCN6927.jpg</td>\n",
       "    </tr>\n",
       "    <tr>\n",
       "      <th>81_DSCN0848</th>\n",
       "      <td>Leukoplakia</td>\n",
       "      <td>test</td>\n",
       "      <td>3</td>\n",
       "      <td>data/test/Leukoplakia/81_DSCN0848.jpg</td>\n",
       "    </tr>\n",
       "    <tr>\n",
       "      <th>00_a972b414-20221210_182005</th>\n",
       "      <td>Leukoplakia</td>\n",
       "      <td>train</td>\n",
       "      <td>3</td>\n",
       "      <td>data/train/Leukoplakia/00_a972b414-20221210_18...</td>\n",
       "    </tr>\n",
       "    <tr>\n",
       "      <th>40_DSCN0536</th>\n",
       "      <td>Leukoplakia</td>\n",
       "      <td>train</td>\n",
       "      <td>3</td>\n",
       "      <td>data/train/Leukoplakia/40_DSCN0536.jpg</td>\n",
       "    </tr>\n",
       "  </tbody>\n",
       "</table>\n",
       "<p>874 rows × 4 columns</p>\n",
       "</div>"
      ],
      "text/plain": [
       "                                              label    tag  int_label  \\\n",
       "filename                                                                \n",
       "00_DSCN9645_2                           Leukoplakia  train          3   \n",
       "00_20d5f703-IMG_20190430_213225  Erythroleukoplakia  train          1   \n",
       "109_DSCN9487                                  Ulcer  train          5   \n",
       "137_DSCN0889                            Leukoplakia  train          3   \n",
       "46_DSCN9587                             Leukoplakia  train          3   \n",
       "...                                             ...    ...        ...   \n",
       "116_IMG_4433                          Erythroplakia  train          0   \n",
       "82_DSCN6927                                   Ulcer   test          5   \n",
       "81_DSCN0848                             Leukoplakia   test          3   \n",
       "00_a972b414-20221210_182005             Leukoplakia  train          3   \n",
       "40_DSCN0536                             Leukoplakia  train          3   \n",
       "\n",
       "                                                                        image_path  \n",
       "filename                                                                            \n",
       "00_DSCN9645_2                             data/train/Leukoplakia/00_DSCN9645_2.jpg  \n",
       "00_20d5f703-IMG_20190430_213225  data/train/Erythroleukoplakia/00_20d5f703-IMG_...  \n",
       "109_DSCN9487                                     data/train/Ulcer/109_DSCN9487.jpg  \n",
       "137_DSCN0889                               data/train/Leukoplakia/137_DSCN0889.jpg  \n",
       "46_DSCN9587                                 data/train/Leukoplakia/46_DSCN9587.jpg  \n",
       "...                                                                            ...  \n",
       "116_IMG_4433                             data/train/Erythroplakia/116_IMG_4433.jpg  \n",
       "82_DSCN6927                                        data/test/Ulcer/82_DSCN6927.jpg  \n",
       "81_DSCN0848                                  data/test/Leukoplakia/81_DSCN0848.jpg  \n",
       "00_a972b414-20221210_182005      data/train/Leukoplakia/00_a972b414-20221210_18...  \n",
       "40_DSCN0536                                 data/train/Leukoplakia/40_DSCN0536.jpg  \n",
       "\n",
       "[874 rows x 4 columns]"
      ]
     },
     "execution_count": 21,
     "metadata": {},
     "output_type": "execute_result"
    }
   ],
   "source": [
    "df_org = pd.read_csv('../data/data.csv', index_col='filename')\n",
    "df_org"
   ]
  },
  {
   "cell_type": "code",
   "execution_count": 20,
   "metadata": {},
   "outputs": [
    {
     "name": "stdout",
     "output_type": "stream",
     "text": [
      "['Erythroleukoplakia', 'Ulcer', 'Leukoplakia', 'Tumor']\n"
     ]
    }
   ],
   "source": [
    "labels = list(set(df_test['label'].to_list()))\n",
    "print(labels)\n",
    "\n",
    "for lab in labels:\n",
    "    os.mkdir('train2/' + lab)\n",
    "    os.mkdir('test2/' + lab)"
   ]
  },
  {
   "cell_type": "code",
   "execution_count": 36,
   "metadata": {},
   "outputs": [],
   "source": [
    "train_path = []\n",
    "for filename, lab in zip(df_train['filename'], df_train['label']):\n",
    "    img_path = f'train/{lab}/{filename}.jpg'\n",
    "    shutil.copy2(f\"../{df_org.loc[filename]['image_path']}\", img_path)\n",
    "    train_path.append('data_balanced/' + img_path)\n",
    "\n",
    "test_path = []\n",
    "for filename, lab in zip(df_test['filename'], df_test['label']):\n",
    "    img_path = f'test/{lab}/{filename}.jpg'\n",
    "    shutil.copy2(f\"../{df_org.loc[filename]['image_path']}\", img_path)\n",
    "    test_path.append('data_balanced/' + img_path)"
   ]
  },
  {
   "cell_type": "code",
   "execution_count": 37,
   "metadata": {},
   "outputs": [],
   "source": [
    "df_train['image_path'] = train_path\n",
    "df_test['image_path'] = test_path"
   ]
  },
  {
   "cell_type": "code",
   "execution_count": 34,
   "metadata": {},
   "outputs": [
    {
     "data": {
      "text/plain": [
       "(43, 50, 67, 69)"
      ]
     },
     "execution_count": 34,
     "metadata": {},
     "output_type": "execute_result"
    }
   ],
   "source": [
    "Erythroleukoplakia = os.listdir('train/Erythroleukoplakia')\n",
    "Ulcer = os.listdir('train/Ulcer')\n",
    "Leukoplakia = os.listdir('train/Leukoplakia')\n",
    "Tumor = os.listdir('train/Tumor')\n",
    "len(Erythroleukoplakia), len(Ulcer), len(Leukoplakia), len(Tumor)"
   ]
  },
  {
   "cell_type": "code",
   "execution_count": 41,
   "metadata": {},
   "outputs": [
    {
     "name": "stdout",
     "output_type": "stream",
     "text": [
      "Original\n",
      "*********\n",
      "label\n",
      "Leukoplakia           382\n",
      "Ulcer                 257\n",
      "Tumor                  97\n",
      "Erythroleukoplakia     61\n",
      "Keratosis              48\n",
      "Erythroplakia          29\n",
      "Name: count, dtype: int64\n",
      "*********\n",
      "train\n",
      "*********\n",
      "label\n",
      "Tumor                 69\n",
      "Leukoplakia           67\n",
      "Ulcer                 50\n",
      "Erythroleukoplakia    43\n",
      "Name: count, dtype: int64\n",
      "*********\n",
      "test\n",
      "*********\n",
      "label\n",
      "Leukoplakia           50\n",
      "Ulcer                 41\n",
      "Tumor                 28\n",
      "Erythroleukoplakia    18\n",
      "Name: count, dtype: int64\n"
     ]
    }
   ],
   "source": [
    "counts_all = df_org['label'].value_counts()\n",
    "counts_train = df_train['label'].value_counts()\n",
    "counts_test = df_test['label'].value_counts()\n",
    "\n",
    "print('Original',counts_all, 'train', counts_train, 'test', counts_test, sep='\\n*********\\n')"
   ]
  },
  {
   "cell_type": "code",
   "execution_count": 42,
   "metadata": {},
   "outputs": [
    {
     "name": "stderr",
     "output_type": "stream",
     "text": [
      "/tmp/ipykernel_82763/2519976382.py:11: FutureWarning: Series.__getitem__ treating keys as positions is deprecated. In a future version, integer keys will always be treated as labels (consistent with DataFrame behavior). To access a value by position, use `ser.iloc[pos]`\n",
      "  ax1.text(i,counts_all[i],counts_all[i])\n",
      "/tmp/ipykernel_82763/2519976382.py:21: FutureWarning: Series.__getitem__ treating keys as positions is deprecated. In a future version, integer keys will always be treated as labels (consistent with DataFrame behavior). To access a value by position, use `ser.iloc[pos]`\n",
      "  ax2.text(i,counts_train[i],counts_train[i])\n",
      "/tmp/ipykernel_82763/2519976382.py:31: FutureWarning: Series.__getitem__ treating keys as positions is deprecated. In a future version, integer keys will always be treated as labels (consistent with DataFrame behavior). To access a value by position, use `ser.iloc[pos]`\n",
      "  ax3.text(i,counts_test[i],counts_test[i])\n"
     ]
    },
    {
     "data": {
      "image/png": "[encoded data removed]",
      "text/plain": [
       "<Figure size 1600x800 with 3 Axes>"
      ]
     },
     "metadata": {},
     "output_type": "display_data"
    }
   ],
   "source": [
    "import matplotlib.pyplot as plt\n",
    "from matplotlib.gridspec import GridSpec\n",
    "\n",
    "gs = GridSpec(3, 3)\n",
    "fig = plt.figure(figsize=(16, 8))\n",
    "\n",
    "# All data\n",
    "ax1 = fig.add_subplot(gs[0,0])\n",
    "ax1.bar(counts_all.keys(), counts_all)\n",
    "for i in range(len(counts_all.keys())):\n",
    "    ax1.text(i,counts_all[i],counts_all[i])\n",
    "ax1.set_xticks(range(len(counts_all.keys())))\n",
    "ax1.set_xticklabels(counts_all.keys())\n",
    "ax1.tick_params(axis='x', rotation=35)\n",
    "ax1.set_title('Data count')\n",
    "\n",
    "# train data\n",
    "ax2 = fig.add_subplot(gs[0,1])\n",
    "ax2.bar(counts_train.keys(), counts_train)\n",
    "for i in range(len(counts_train.keys())):\n",
    "    ax2.text(i,counts_train[i],counts_train[i])\n",
    "ax2.set_xticks(range(len(counts_train.keys())))\n",
    "ax2.set_xticklabels(counts_train.keys())\n",
    "ax2.tick_params(axis='x', rotation=35)\n",
    "ax2.set_title('Train Data count')\n",
    "\n",
    "# test data\n",
    "ax3 = fig.add_subplot(gs[0,2])\n",
    "ax3.bar(counts_test.keys(), counts_test)\n",
    "for i in range(len(counts_test.keys())):\n",
    "    ax3.text(i,counts_test[i],counts_test[i])\n",
    "ax3.set_xticks(range(len(counts_test.keys())))\n",
    "ax3.set_xticklabels(counts_test.keys())\n",
    "ax3.tick_params(axis='x', rotation=35)\n",
    "ax3.set_title('Test Data count')\n",
    "\n",
    "plt.show()"
   ]
  }
 ],
 "metadata": {
  "kernelspec": {
   "display_name": "hanish",
   "language": "python",
   "name": "python3"
  },
  "language_info": {
   "codemirror_mode": {
    "name": "ipython",
    "version": 3
   },
   "file_extension": ".py",
   "mimetype": "text/x-python",
   "name": "python",
   "nbconvert_exporter": "python",
   "pygments_lexer": "ipython3",
   "version": "3.10.14"
  }
 },
 "nbformat": 4,
 "nbformat_minor": 2
}
