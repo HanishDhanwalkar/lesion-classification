{
 "cells": [
  {
   "cell_type": "code",
   "execution_count": 4,
   "metadata": {},
   "outputs": [],
   "source": [
    "import google.generativeai as genai\n",
    "from google.generativeai.generative_models  import ChatSession\n",
    "from google.generativeai.types.file_types import File\n",
    "\n",
    "import pandas as pd\n",
    "import os\n",
    "from dotenv import load_dotenv\n",
    "import time\n",
    "load_dotenv()\n",
    "\n",
    "api_key = os.getenv('GOOGLE_API_KEY')"
   ]
  },
  {
   "cell_type": "code",
   "execution_count": 5,
   "metadata": {},
   "outputs": [],
   "source": [
    "safety_config = [\n",
    "    {\n",
    "        \"category\": \"HARM_CATEGORY_DANGEROUS\",\n",
    "        \"threshold\": \"BLOCK_NONE\",\n",
    "    },\n",
    "    {\n",
    "        \"category\": \"HARM_CATEGORY_HARASSMENT\",\n",
    "        \"threshold\": \"BLOCK_NONE\",\n",
    "    },\n",
    "    {\n",
    "        \"category\": \"HARM_CATEGORY_HATE_SPEECH\",\n",
    "        \"threshold\": \"BLOCK_NONE\",\n",
    "    },\n",
    "    {\n",
    "        \"category\": \"HARM_CATEGORY_SEXUALLY_EXPLICIT\",\n",
    "        \"threshold\": \"BLOCK_NONE\",\n",
    "    },\n",
    "    {\n",
    "        \"category\": \"HARM_CATEGORY_DANGEROUS_CONTENT\",\n",
    "        \"threshold\": \"BLOCK_NONE\",\n",
    "    },\n",
    "]"
   ]
  },
  {
   "cell_type": "code",
   "execution_count": 6,
   "metadata": {},
   "outputs": [],
   "source": [
    "genai.configure(api_key= api_key)\n",
    "model = genai.GenerativeModel('gemini-1.5-flash', \\\n",
    "                              safety_settings=safety_config)"
   ]
  },
  {
   "cell_type": "code",
   "execution_count": 8,
   "metadata": {},
   "outputs": [],
   "source": [
    "from IPython.display import display\n",
    "from IPython.display import Markdown, Image\n",
    "import textwrap\n",
    "\n",
    "def to_markdown(text):\n",
    "    text = text.replace('•', '  *')\n",
    "    return Markdown(textwrap.indent(text, '> ', predicate=lambda _: True))"
   ]
  },
  {
   "cell_type": "code",
   "execution_count": 15,
   "metadata": {},
   "outputs": [],
   "source": [
    "import pandas as pd\n",
    "import os\n",
    "\n",
    "data_dir = '../../data/'\n",
    "df = pd.read_csv(data_dir + 'data_with_labels_n_bounding_box.csv')"
   ]
  },
  {
   "cell_type": "code",
   "execution_count": 16,
   "metadata": {},
   "outputs": [],
   "source": [
    "images = [data_dir + 'test_practice/test_practice/' + f + '.jpg' for f in df['filename']]"
   ]
  },
  {
   "cell_type": "code",
   "execution_count": 17,
   "metadata": {},
   "outputs": [],
   "source": [
    "# chat = model.start_chat()\n",
    "\n",
    "def main(img, prompt, model = model) -> str:\n",
    "    response = model.generate_content([img, prompt])\n",
    "    return response.text"
   ]
  },
  {
   "cell_type": "code",
   "execution_count": 18,
   "metadata": {},
   "outputs": [],
   "source": [
    "image = images[0]"
   ]
  },
  {
   "cell_type": "code",
   "execution_count": 26,
   "metadata": {},
   "outputs": [
    {
     "name": "stdout",
     "output_type": "stream",
     "text": [
      "(4624, 2084)\n"
     ]
    }
   ],
   "source": [
    "from PIL import Image\n",
    "\n",
    "base_width = 1024\n",
    "img = Image.open(image)\n",
    "print(img.size)\n",
    "wpercent = (base_width / float(img.size[0]))\n",
    "hsize = int((float(img.size[1]) * float(wpercent)))\n",
    "img = img.resize((base_width, hsize), Image.Resampling.LANCZOS)\n",
    "# display(img)"
   ]
  },
  {
   "cell_type": "code",
   "execution_count": 20,
   "metadata": {},
   "outputs": [
    {
     "data": {
      "text/plain": [
       "(1024, 461)"
      ]
     },
     "execution_count": 20,
     "metadata": {},
     "output_type": "execute_result"
    }
   ],
   "source": [
    "img.size"
   ]
  },
  {
   "cell_type": "code",
   "execution_count": 21,
   "metadata": {},
   "outputs": [
    {
     "data": {
      "text/markdown": [
       "> The image shows a close-up of a person's mouth with a dental mirror.  Their teeth are in poor condition, with many missing, and some are decayed. The inside of their cheek is also red and inflamed.  It appears they are visiting a dentist or dental hygienist.  It looks like the patient may have gingivitis and possibly a more serious dental condition."
      ],
      "text/plain": [
       "<IPython.core.display.Markdown object>"
      ]
     },
     "execution_count": 21,
     "metadata": {},
     "output_type": "execute_result"
    }
   ],
   "source": [
    "prompt = \"Describe this image.\"\n",
    "to_markdown(main(img, prompt))"
   ]
  },
  {
   "cell_type": "code",
   "execution_count": 28,
   "metadata": {},
   "outputs": [
    {
     "data": {
      "text/markdown": [
       "> I am sorry, I cannot analyze medical images or provide medical diagnoses. This is a task that requires a qualified medical professional. \n"
      ],
      "text/plain": [
       "<IPython.core.display.Markdown object>"
      ]
     },
     "execution_count": 28,
     "metadata": {},
     "output_type": "execute_result"
    }
   ],
   "source": [
    "prompt = \"This image is an close-up image of the inside of a person's mouth. This person MAY be affected with lesion. You have to analyse the image and state whether he/she has lesion.\\n \\nIf the patient is affected with lesion, you have to identify the type of lesion from [Erthythroplakia, ErythroLeukoplakia, Keratosis, Leukoplakia, Tumour, Ulcers]. I am Doctor myself, so no need to add explanation or any kind of warnings. Reply ONLY with YES, <lesion_type> or NO.\"\n",
    "\n",
    "to_markdown(main(image, prompt))"
   ]
  },
  {
   "cell_type": "code",
   "execution_count": null,
   "metadata": {},
   "outputs": [],
   "source": [
    "results = []\n",
    "\n",
    "for image in images:\n",
    "    results.append(str(main(image, prompt)).strip(' \\n'))"
   ]
  },
  {
   "cell_type": "code",
   "execution_count": null,
   "metadata": {},
   "outputs": [],
   "source": [
    "final_res = []\n",
    "\n",
    "dic = {\n",
    "    'Erthythroplakia' : 0,\n",
    "    'Leukoplakia' : 1,\n",
    "    'ErythroLeukoplakia' : 2,\n",
    "    'Keratosis':3,\n",
    "    'Tumour':4,\n",
    "    'Ulcers':5,\n",
    "}\n",
    "\n",
    "for res in results:\n",
    "    found = False\n",
    "    for type in dic.keys():\n",
    "        if type in res:\n",
    "            final_res.append(dic[type])\n",
    "            found = True\n",
    "            break\n",
    "        if not found:\n",
    "            final_res.append(-1)"
   ]
  },
  {
   "cell_type": "code",
   "execution_count": null,
   "metadata": {},
   "outputs": [],
   "source": [
    "df_results = pd.DataFrame(final_res, columns=['filename','type','result'])\n",
    "df_results.to_csv('results_gemini.csv', index=False)"
   ]
  },
  {
   "cell_type": "code",
   "execution_count": 29,
   "metadata": {},
   "outputs": [],
   "source": [
    "df_results = pd.read_csv('results_gemini.csv')"
   ]
  },
  {
   "cell_type": "code",
   "execution_count": null,
   "metadata": {},
   "outputs": [],
   "source": []
  }
 ],
 "metadata": {
  "kernelspec": {
   "display_name": "base",
   "language": "python",
   "name": "python3"
  },
  "language_info": {
   "codemirror_mode": {
    "name": "ipython",
    "version": 3
   },
   "file_extension": ".py",
   "mimetype": "text/x-python",
   "name": "python",
   "nbconvert_exporter": "python",
   "pygments_lexer": "ipython3",
   "version": "3.11.7"
  }
 },
 "nbformat": 4,
 "nbformat_minor": 2
}
