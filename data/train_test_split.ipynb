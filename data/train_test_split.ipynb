{
 "cells": [
  {
   "cell_type": "code",
   "execution_count": 22,
   "metadata": {},
   "outputs": [],
   "source": [
    "import pandas as pd\n",
    "import json\n",
    "import os\n",
    "import shutil\n"
   ]
  },
  {
   "cell_type": "code",
   "execution_count": 4,
   "metadata": {},
   "outputs": [],
   "source": [
    "df = pd.read_csv('data.csv')"
   ]
  },
  {
   "cell_type": "code",
   "execution_count": 5,
   "metadata": {},
   "outputs": [
    {
     "data": {
      "text/html": [
       "<div>\n",
       "<style scoped>\n",
       "    .dataframe tbody tr th:only-of-type {\n",
       "        vertical-align: middle;\n",
       "    }\n",
       "\n",
       "    .dataframe tbody tr th {\n",
       "        vertical-align: top;\n",
       "    }\n",
       "\n",
       "    .dataframe thead th {\n",
       "        text-align: right;\n",
       "    }\n",
       "</style>\n",
       "<table border=\"1\" class=\"dataframe\">\n",
       "  <thead>\n",
       "    <tr style=\"text-align: right;\">\n",
       "      <th></th>\n",
       "      <th>filename</th>\n",
       "      <th>label</th>\n",
       "    </tr>\n",
       "  </thead>\n",
       "  <tbody>\n",
       "    <tr>\n",
       "      <th>0</th>\n",
       "      <td>00_DSCN9645_2</td>\n",
       "      <td>3</td>\n",
       "    </tr>\n",
       "    <tr>\n",
       "      <th>1</th>\n",
       "      <td>00_20d5f703-IMG_20190430_213225</td>\n",
       "      <td>1</td>\n",
       "    </tr>\n",
       "    <tr>\n",
       "      <th>2</th>\n",
       "      <td>109_DSCN9487</td>\n",
       "      <td>5</td>\n",
       "    </tr>\n",
       "    <tr>\n",
       "      <th>3</th>\n",
       "      <td>137_DSCN0889</td>\n",
       "      <td>3</td>\n",
       "    </tr>\n",
       "    <tr>\n",
       "      <th>4</th>\n",
       "      <td>46_DSCN9587</td>\n",
       "      <td>3</td>\n",
       "    </tr>\n",
       "  </tbody>\n",
       "</table>\n",
       "</div>"
      ],
      "text/plain": [
       "                          filename  label\n",
       "0                    00_DSCN9645_2      3\n",
       "1  00_20d5f703-IMG_20190430_213225      1\n",
       "2                     109_DSCN9487      5\n",
       "3                     137_DSCN0889      3\n",
       "4                      46_DSCN9587      3"
      ]
     },
     "execution_count": 5,
     "metadata": {},
     "output_type": "execute_result"
    }
   ],
   "source": [
    "df.head()"
   ]
  },
  {
   "cell_type": "code",
   "execution_count": 6,
   "metadata": {},
   "outputs": [
    {
     "data": {
      "text/plain": [
       "(874, 88)"
      ]
     },
     "execution_count": 6,
     "metadata": {},
     "output_type": "execute_result"
    }
   ],
   "source": [
    "split = [fn[:2] for fn in df['filename']]\n",
    "len(split), len(set(split))"
   ]
  },
  {
   "cell_type": "code",
   "execution_count": 7,
   "metadata": {},
   "outputs": [],
   "source": [
    "def filter_sentences_by_prefix(sentences, prefix):\n",
    "    filtered_sentences = []\n",
    "    for sentence in sentences:\n",
    "        if sentence.startswith(prefix):\n",
    "            filtered_sentences.append(sentence)\n",
    "    return filtered_sentences\n",
    "\n",
    "di = {}\n",
    "for prefix in sorted(set(split)):\n",
    "    di[prefix] = filter_sentences_by_prefix(df['filename'].to_list(), prefix)"
   ]
  },
  {
   "cell_type": "code",
   "execution_count": 35,
   "metadata": {},
   "outputs": [],
   "source": [
    "# for key in di.keys():\n",
    "#     print(key, \":\" , len(di[key]))"
   ]
  },
  {
   "cell_type": "code",
   "execution_count": 9,
   "metadata": {},
   "outputs": [
    {
     "data": {
      "text/html": [
       "<div>\n",
       "<style scoped>\n",
       "    .dataframe tbody tr th:only-of-type {\n",
       "        vertical-align: middle;\n",
       "    }\n",
       "\n",
       "    .dataframe tbody tr th {\n",
       "        vertical-align: top;\n",
       "    }\n",
       "\n",
       "    .dataframe thead th {\n",
       "        text-align: right;\n",
       "    }\n",
       "</style>\n",
       "<table border=\"1\" class=\"dataframe\">\n",
       "  <thead>\n",
       "    <tr style=\"text-align: right;\">\n",
       "      <th></th>\n",
       "      <th>filename</th>\n",
       "      <th>label</th>\n",
       "      <th>tag</th>\n",
       "    </tr>\n",
       "  </thead>\n",
       "  <tbody>\n",
       "    <tr>\n",
       "      <th>0</th>\n",
       "      <td>00_DSCN9645_2</td>\n",
       "      <td>3</td>\n",
       "      <td>train</td>\n",
       "    </tr>\n",
       "    <tr>\n",
       "      <th>1</th>\n",
       "      <td>00_20d5f703-IMG_20190430_213225</td>\n",
       "      <td>1</td>\n",
       "      <td>train</td>\n",
       "    </tr>\n",
       "    <tr>\n",
       "      <th>2</th>\n",
       "      <td>109_DSCN9487</td>\n",
       "      <td>5</td>\n",
       "      <td>train</td>\n",
       "    </tr>\n",
       "    <tr>\n",
       "      <th>3</th>\n",
       "      <td>137_DSCN0889</td>\n",
       "      <td>3</td>\n",
       "      <td>train</td>\n",
       "    </tr>\n",
       "    <tr>\n",
       "      <th>4</th>\n",
       "      <td>46_DSCN9587</td>\n",
       "      <td>3</td>\n",
       "      <td>train</td>\n",
       "    </tr>\n",
       "  </tbody>\n",
       "</table>\n",
       "</div>"
      ],
      "text/plain": [
       "                          filename  label    tag\n",
       "0                    00_DSCN9645_2      3  train\n",
       "1  00_20d5f703-IMG_20190430_213225      1  train\n",
       "2                     109_DSCN9487      5  train\n",
       "3                     137_DSCN0889      3  train\n",
       "4                      46_DSCN9587      3  train"
      ]
     },
     "execution_count": 9,
     "metadata": {},
     "output_type": "execute_result"
    }
   ],
   "source": [
    "tag = []\n",
    "for i in range(len(df)):\n",
    "    file = df['filename'].iloc[i]\n",
    "    if len(di[file[:2]]) >= 8:\n",
    "        tag.append('train')\n",
    "    else:\n",
    "        tag.append('test')\n",
    "# len(tag)\n",
    "\n",
    "df['tag'] = tag\n",
    "df.head()"
   ]
  },
  {
   "cell_type": "code",
   "execution_count": 11,
   "metadata": {},
   "outputs": [
    {
     "data": {
      "text/plain": [
       "(197, 677)"
      ]
     },
     "execution_count": 11,
     "metadata": {},
     "output_type": "execute_result"
    }
   ],
   "source": [
    "len(df[(df['tag'] == 'test')]), len(df[(df['tag'] == 'train')])"
   ]
  },
  {
   "cell_type": "code",
   "execution_count": 12,
   "metadata": {},
   "outputs": [],
   "source": [
    "df.to_csv('data2.csv', index=False)"
   ]
  },
  {
   "cell_type": "code",
   "execution_count": 13,
   "metadata": {},
   "outputs": [],
   "source": [
    "import os\n",
    "\n",
    "if not os.path.exists('images/train'):\n",
    "    os.mkdir('images/train')\n",
    "\n",
    "if not os.path.exists('images/test'):\n",
    "    os.mkdir('images/test')"
   ]
  },
  {
   "cell_type": "code",
   "execution_count": 16,
   "metadata": {},
   "outputs": [
    {
     "data": {
      "text/html": [
       "<div>\n",
       "<style scoped>\n",
       "    .dataframe tbody tr th:only-of-type {\n",
       "        vertical-align: middle;\n",
       "    }\n",
       "\n",
       "    .dataframe tbody tr th {\n",
       "        vertical-align: top;\n",
       "    }\n",
       "\n",
       "    .dataframe thead th {\n",
       "        text-align: right;\n",
       "    }\n",
       "</style>\n",
       "<table border=\"1\" class=\"dataframe\">\n",
       "  <thead>\n",
       "    <tr style=\"text-align: right;\">\n",
       "      <th></th>\n",
       "      <th>filename</th>\n",
       "      <th>label</th>\n",
       "      <th>tag</th>\n",
       "      <th>image_path</th>\n",
       "    </tr>\n",
       "  </thead>\n",
       "  <tbody>\n",
       "    <tr>\n",
       "      <th>0</th>\n",
       "      <td>00_DSCN9645_2</td>\n",
       "      <td>3</td>\n",
       "      <td>train</td>\n",
       "      <td>data/images/00_DSCN9645_2.jpg</td>\n",
       "    </tr>\n",
       "    <tr>\n",
       "      <th>1</th>\n",
       "      <td>00_20d5f703-IMG_20190430_213225</td>\n",
       "      <td>1</td>\n",
       "      <td>train</td>\n",
       "      <td>data/images/00_20d5f703-IMG_20190430_213225.jpg</td>\n",
       "    </tr>\n",
       "    <tr>\n",
       "      <th>2</th>\n",
       "      <td>109_DSCN9487</td>\n",
       "      <td>5</td>\n",
       "      <td>train</td>\n",
       "      <td>data/images/109_DSCN9487.jpg</td>\n",
       "    </tr>\n",
       "    <tr>\n",
       "      <th>3</th>\n",
       "      <td>137_DSCN0889</td>\n",
       "      <td>3</td>\n",
       "      <td>train</td>\n",
       "      <td>data/images/137_DSCN0889.jpg</td>\n",
       "    </tr>\n",
       "    <tr>\n",
       "      <th>4</th>\n",
       "      <td>46_DSCN9587</td>\n",
       "      <td>3</td>\n",
       "      <td>train</td>\n",
       "      <td>data/images/46_DSCN9587.jpg</td>\n",
       "    </tr>\n",
       "  </tbody>\n",
       "</table>\n",
       "</div>"
      ],
      "text/plain": [
       "                          filename  label    tag  \\\n",
       "0                    00_DSCN9645_2      3  train   \n",
       "1  00_20d5f703-IMG_20190430_213225      1  train   \n",
       "2                     109_DSCN9487      5  train   \n",
       "3                     137_DSCN0889      3  train   \n",
       "4                      46_DSCN9587      3  train   \n",
       "\n",
       "                                        image_path  \n",
       "0                    data/images/00_DSCN9645_2.jpg  \n",
       "1  data/images/00_20d5f703-IMG_20190430_213225.jpg  \n",
       "2                     data/images/109_DSCN9487.jpg  \n",
       "3                     data/images/137_DSCN0889.jpg  \n",
       "4                      data/images/46_DSCN9587.jpg  "
      ]
     },
     "execution_count": 16,
     "metadata": {},
     "output_type": "execute_result"
    }
   ],
   "source": [
    "df.head()"
   ]
  },
  {
   "cell_type": "code",
   "execution_count": null,
   "metadata": {},
   "outputs": [],
   "source": [
    "for i in range(len(df)):\n",
    "    shutil.copy(f\"images/{df['filename'].iloc[i]}.jpg\", f\"images/{df['tag'].iloc[i]}/{df['filename'].iloc[i]}.jpg\")\n",
    "    df['image_path'].iloc[i] = f\"data/images/{df['tag'].iloc[i]}/{df['filename'].iloc[i]}.jpg\""
   ]
  },
  {
   "cell_type": "code",
   "execution_count": 31,
   "metadata": {},
   "outputs": [
    {
     "data": {
      "text/html": [
       "<div>\n",
       "<style scoped>\n",
       "    .dataframe tbody tr th:only-of-type {\n",
       "        vertical-align: middle;\n",
       "    }\n",
       "\n",
       "    .dataframe tbody tr th {\n",
       "        vertical-align: top;\n",
       "    }\n",
       "\n",
       "    .dataframe thead th {\n",
       "        text-align: right;\n",
       "    }\n",
       "</style>\n",
       "<table border=\"1\" class=\"dataframe\">\n",
       "  <thead>\n",
       "    <tr style=\"text-align: right;\">\n",
       "      <th></th>\n",
       "      <th>filename</th>\n",
       "      <th>label</th>\n",
       "      <th>tag</th>\n",
       "      <th>image_path</th>\n",
       "    </tr>\n",
       "  </thead>\n",
       "  <tbody>\n",
       "    <tr>\n",
       "      <th>0</th>\n",
       "      <td>00_DSCN9645_2</td>\n",
       "      <td>3</td>\n",
       "      <td>train</td>\n",
       "      <td>data/images/train/00_DSCN9645_2.jpg</td>\n",
       "    </tr>\n",
       "    <tr>\n",
       "      <th>1</th>\n",
       "      <td>00_20d5f703-IMG_20190430_213225</td>\n",
       "      <td>1</td>\n",
       "      <td>train</td>\n",
       "      <td>data/images/train/00_20d5f703-IMG_20190430_213...</td>\n",
       "    </tr>\n",
       "    <tr>\n",
       "      <th>2</th>\n",
       "      <td>109_DSCN9487</td>\n",
       "      <td>5</td>\n",
       "      <td>train</td>\n",
       "      <td>data/images/train/109_DSCN9487.jpg</td>\n",
       "    </tr>\n",
       "    <tr>\n",
       "      <th>3</th>\n",
       "      <td>137_DSCN0889</td>\n",
       "      <td>3</td>\n",
       "      <td>train</td>\n",
       "      <td>data/images/train/137_DSCN0889.jpg</td>\n",
       "    </tr>\n",
       "    <tr>\n",
       "      <th>4</th>\n",
       "      <td>46_DSCN9587</td>\n",
       "      <td>3</td>\n",
       "      <td>train</td>\n",
       "      <td>data/images/train/46_DSCN9587.jpg</td>\n",
       "    </tr>\n",
       "  </tbody>\n",
       "</table>\n",
       "</div>"
      ],
      "text/plain": [
       "                          filename  label    tag  \\\n",
       "0                    00_DSCN9645_2      3  train   \n",
       "1  00_20d5f703-IMG_20190430_213225      1  train   \n",
       "2                     109_DSCN9487      5  train   \n",
       "3                     137_DSCN0889      3  train   \n",
       "4                      46_DSCN9587      3  train   \n",
       "\n",
       "                                          image_path  \n",
       "0                data/images/train/00_DSCN9645_2.jpg  \n",
       "1  data/images/train/00_20d5f703-IMG_20190430_213...  \n",
       "2                 data/images/train/109_DSCN9487.jpg  \n",
       "3                 data/images/train/137_DSCN0889.jpg  \n",
       "4                  data/images/train/46_DSCN9587.jpg  "
      ]
     },
     "execution_count": 31,
     "metadata": {},
     "output_type": "execute_result"
    }
   ],
   "source": [
    "df.head()"
   ]
  },
  {
   "cell_type": "code",
   "execution_count": 35,
   "metadata": {},
   "outputs": [],
   "source": [
    "labeling ={0: 'Erythroplakia',\n",
    "            1: 'Erythroleukoplakia',\n",
    "            2: 'Keratosis',\n",
    "            3: 'Leukoplakia',\n",
    "            4: 'Tumor',\n",
    "            5: 'Ulcer'}\n",
    "\n",
    "labels = []\n",
    "for lab in df['label']:\n",
    "    labels.append(labeling[lab])\n",
    "\n",
    "df['label'] = labels"
   ]
  },
  {
   "cell_type": "code",
   "execution_count": 32,
   "metadata": {},
   "outputs": [],
   "source": [
    "df.to_csv('data2.csv', index=False)"
   ]
  },
  {
   "cell_type": "code",
   "execution_count": 37,
   "metadata": {},
   "outputs": [],
   "source": [
    "json_data = df.to_json('data2.json', orient=\"records\", lines=True)"
   ]
  },
  {
   "cell_type": "code",
   "execution_count": 38,
   "metadata": {},
   "outputs": [],
   "source": [
    "data_train = df[(df['tag']=='train')]\n",
    "data_test = df[(df['tag']=='test')]\n",
    "\n",
    "data_train.to_json('data_train.json', orient=\"records\", lines=True)\n",
    "data_test.to_json('data_test.json', orient=\"records\", lines=True)"
   ]
  },
  {
   "cell_type": "code",
   "execution_count": null,
   "metadata": {},
   "outputs": [],
   "source": []
  }
 ],
 "metadata": {
  "kernelspec": {
   "display_name": "hanish",
   "language": "python",
   "name": "python3"
  },
  "language_info": {
   "codemirror_mode": {
    "name": "ipython",
    "version": 3
   },
   "file_extension": ".py",
   "mimetype": "text/x-python",
   "name": "python",
   "nbconvert_exporter": "python",
   "pygments_lexer": "ipython3",
   "version": "3.10.14"
  }
 },
 "nbformat": 4,
 "nbformat_minor": 2
}
